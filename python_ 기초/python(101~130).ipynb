{
 "cells": [
  {
   "cell_type": "code",
   "execution_count": 1,
   "metadata": {},
   "outputs": [],
   "source": [
    "# bool"
   ]
  },
  {
   "cell_type": "code",
   "execution_count": 2,
   "metadata": {},
   "outputs": [
    {
     "name": "stdout",
     "output_type": "stream",
     "text": [
      "False\n"
     ]
    }
   ],
   "source": [
    "print(3 == 5)"
   ]
  },
  {
   "cell_type": "code",
   "execution_count": 4,
   "metadata": {},
   "outputs": [
    {
     "name": "stdout",
     "output_type": "stream",
     "text": [
      "True\n"
     ]
    }
   ],
   "source": [
    "print(3 < 5)"
   ]
  },
  {
   "cell_type": "code",
   "execution_count": 5,
   "metadata": {},
   "outputs": [
    {
     "name": "stdout",
     "output_type": "stream",
     "text": [
      "True\n"
     ]
    }
   ],
   "source": [
    "x = 4\n",
    "print(1< x <5)"
   ]
  },
  {
   "cell_type": "code",
   "execution_count": 6,
   "metadata": {},
   "outputs": [
    {
     "name": "stdout",
     "output_type": "stream",
     "text": [
      "True\n"
     ]
    }
   ],
   "source": [
    "print ((3==3) and (4 !=3))"
   ]
  },
  {
   "cell_type": "code",
   "execution_count": 8,
   "metadata": {},
   "outputs": [
    {
     "name": "stdout",
     "output_type": "stream",
     "text": [
      "False\n"
     ]
    }
   ],
   "source": [
    "#print(3=>4)\n",
    "# >= 로 수정해야한다.\n",
    "print(3>=4)"
   ]
  },
  {
   "cell_type": "code",
   "execution_count": 9,
   "metadata": {},
   "outputs": [
    {
     "name": "stdout",
     "output_type": "stream",
     "text": [
      "1\n",
      "2\n",
      "4\n"
     ]
    }
   ],
   "source": [
    "if True:\n",
    "    print(\"1\")\n",
    "    print(\"2\")\n",
    "else:\n",
    "    print(\"3\")\n",
    "print(\"4\")"
   ]
  },
  {
   "cell_type": "code",
   "execution_count": 11,
   "metadata": {},
   "outputs": [
    {
     "name": "stdout",
     "output_type": "stream",
     "text": [
      "3\n",
      "5\n"
     ]
    }
   ],
   "source": [
    "if True:\n",
    "    if False:\n",
    "        print(\"1\")\n",
    "        print(\"2\")\n",
    "    else:\n",
    "        print(\"3\")\n",
    "else:\n",
    "    print('4')\n",
    "print('5')"
   ]
  },
  {
   "cell_type": "code",
   "execution_count": 17,
   "metadata": {},
   "outputs": [
    {
     "name": "stdout",
     "output_type": "stream",
     "text": [
      ">>안녕하세요\n",
      "안녕하세요안녕하세요\n"
     ]
    }
   ],
   "source": [
    "string = input(\">>\")\n",
    "print(string*2)"
   ]
  },
  {
   "cell_type": "code",
   "execution_count": 24,
   "metadata": {},
   "outputs": [
    {
     "name": "stdout",
     "output_type": "stream",
     "text": [
      "숫자를 입력하세요 : 30\n",
      "40\n"
     ]
    }
   ],
   "source": [
    "intiger = int(input(\"숫자를 입력하세요 : \"))\n",
    "#int() 안하면 string 으로 처리됨\n",
    "print(intiger + 10)"
   ]
  },
  {
   "cell_type": "code",
   "execution_count": 26,
   "metadata": {},
   "outputs": [
    {
     "name": "stdout",
     "output_type": "stream",
     "text": [
      ">>31\n",
      "홀수\n"
     ]
    }
   ],
   "source": [
    "intiger = int(input(\">>\"))\n",
    "if (intiger % 2) == 0:\n",
    "    print(\"짝수\")\n",
    "\n",
    "elif (intiger % 2) == 1:\n",
    "    print(\"홀수\")"
   ]
  },
  {
   "cell_type": "code",
   "execution_count": 27,
   "metadata": {},
   "outputs": [
    {
     "name": "stdout",
     "output_type": "stream",
     "text": [
      ">>입력값:260\n",
      "255\n"
     ]
    }
   ],
   "source": [
    "intiger = int(input(\">>입력값:\"))\n",
    "intiger = intiger + 20\n",
    "\n",
    "if(intiger > 255):\n",
    "    print(255)\n",
    "else:\n",
    "    print(intiger)"
   ]
  },
  {
   "cell_type": "code",
   "execution_count": 1,
   "metadata": {},
   "outputs": [
    {
     "name": "stdout",
     "output_type": "stream",
     "text": [
      ">>입력값:10\n",
      "0\n"
     ]
    }
   ],
   "source": [
    "intiger = int(input(\">>입력값:\"))\n",
    "intiger = intiger - 20\n",
    "\n",
    "if(intiger < 0):\n",
    "    print(0)\n",
    "else:\n",
    "    print(intiger)"
   ]
  },
  {
   "cell_type": "code",
   "execution_count": 8,
   "metadata": {},
   "outputs": [
    {
     "name": "stdout",
     "output_type": "stream",
     "text": [
      "현재시간:02:10\n",
      "정각이 아닙니다.\n"
     ]
    }
   ],
   "source": [
    "time = input(\"현재시간:\")\n",
    "if(time[3:] == \"00\"):\n",
    "    print(\"정각입니다.\")\n",
    "else:\n",
    "    print(\"정각이 아닙니다.\")"
   ]
  },
  {
   "cell_type": "code",
   "execution_count": 17,
   "metadata": {},
   "outputs": [
    {
     "name": "stdout",
     "output_type": "stream",
     "text": [
      "좋아하는 과일은?사과\n",
      "정답입니다.\n"
     ]
    }
   ],
   "source": [
    "\n",
    "fruit = [\"사과\", \"포도\", \"홍시\"]\n",
    "my_fruit =input(\"좋아하는 과일은?\")\n",
    "\n",
    "# 조건문을 3번 적는것도 정답일 수 있다.\n",
    "# 반복문을 배우기 전이라 반복문을 제외하고 구현함\n",
    "'''\n",
    "if(fruit[0] == my_fruit or fruit[1] \\\n",
    "   == my_fruit or fruit[2] == my_fruit ):\n",
    "    print(\"정답입니다.\")\n",
    "else:\n",
    "    print(\"오답입니다.\")\n",
    "'''\n",
    "\n",
    "if my_fruit in fruit:\n",
    "    print(\"정답입니다.\")\n",
    "else:\n",
    "    print(\"오답입니다.\")"
   ]
  },
  {
   "cell_type": "code",
   "execution_count": 18,
   "metadata": {},
   "outputs": [
    {
     "name": "stdout",
     "output_type": "stream",
     "text": [
      "종목?LG\n",
      "정답입니다.\n"
     ]
    }
   ],
   "source": [
    "stock = [\"Microsoft\", \"Google\", \"Naver\", \"kakao\", \"SAMSUNG\", \"LG\"]\n",
    "my_stock =input(\"종목?\")\n",
    "\n",
    "# 조건문을 6번 적는것도 정답일 수 있다.\n",
    "# 반복문을 배우기 전이라 반복문을 제외하고 구현함\n",
    "\n",
    "'''\n",
    "if( stock[0] == my_stock or \\\n",
    "    stock[1] == my_stock or \\\n",
    "    stock[2] == my_stock or \\\n",
    "    stock[3] == my_stock or \\\n",
    "    stock[4] == my_stock or \\\n",
    "    stock[5] == my_stock ):\n",
    "        print(\"투자 경고 종목입니다.\")\n",
    "else:\n",
    "    print(\"투자 경고 종목이 아닙니다.\")\n",
    "'''\n",
    "if my_stock in stock:\n",
    "    print(\"정답입니다.\")\n",
    "else:\n",
    "    print(\"오답입니다.\")\n"
   ]
  },
  {
   "cell_type": "code",
   "execution_count": 22,
   "metadata": {},
   "outputs": [
    {
     "name": "stdout",
     "output_type": "stream",
     "text": [
      "제가 좋아하는 계정은:가을을\n",
      "오답입니다.\n"
     ]
    }
   ],
   "source": [
    "dic = {'봄':'딸기', '여름':'토마토', '가을':'사과'}\n",
    "my_dic = input(\"제가 좋아하는 계절:\")\n",
    "if my_dic in dic:\n",
    "    print(\"정답입니다.\")\n",
    "else:\n",
    "    print(\"오답입니다.\")"
   ]
  },
  {
   "cell_type": "code",
   "execution_count": 24,
   "metadata": {},
   "outputs": [
    {
     "name": "stdout",
     "output_type": "stream",
     "text": [
      "제가 좋아하는 계절:딸기\n",
      "정답입니다.\n"
     ]
    }
   ],
   "source": [
    "dic = {'봄':'딸기', '여름':'토마토', '가을':'사과'}\n",
    "my_dic = input(\"제가 좋아하는 계절:\")\n",
    "if my_dic in dic.values():\n",
    "    print(\"정답입니다.\")\n",
    "else:\n",
    "    print(\"오답입니다.\")"
   ]
  },
  {
   "cell_type": "code",
   "execution_count": 33,
   "metadata": {},
   "outputs": [
    {
     "name": "stdout",
     "output_type": "stream",
     "text": [
      ">>C\n",
      "c\n"
     ]
    }
   ],
   "source": [
    "one_char = input(\">>\")\n",
    "if(one_char >= 'a' and one_char <= 'z'):\n",
    "    print(one_char.upper())\n",
    "if(one_char >= 'A' and one_char <= 'Z'):\n",
    "    print(one_char.lower())"
   ]
  },
  {
   "cell_type": "code",
   "execution_count": 34,
   "metadata": {},
   "outputs": [
    {
     "name": "stdout",
     "output_type": "stream",
     "text": [
      ">> score: 61\n",
      "grade in B\n"
     ]
    }
   ],
   "source": [
    "score = int(input(\">> score: \"))\n",
    "if score > 80 and score <= 100:\n",
    "    print(\"grade in A\")\n",
    "elif score > 60 and score <= 80:\n",
    "    print(\"grade in B\")\n",
    "elif score > 40 and score <= 80:\n",
    "    print(\"grade in C\")\n",
    "elif score > 20 and score <= 40:\n",
    "    print(\"grade in D\")\n",
    "elif score > 0 and score <= 20:\n",
    "    print(\"grade in E\")"
   ]
  },
  {
   "cell_type": "code",
   "execution_count": 38,
   "metadata": {},
   "outputs": [
    {
     "name": "stdout",
     "output_type": "stream",
     "text": [
      ">>입력 : 100 달러\n",
      "116700\n"
     ]
    }
   ],
   "source": [
    "string = str(input(\">>입력 : \"))\n",
    "country = string.split(\" \")[1]\n",
    "money = string.split(\" \")[0]\n",
    "\n",
    "country_list = {\"달러\":1167, \"엔\":1.096, \"유로\":1268, \"위안\":171}\n",
    "\n",
    "print(country_list[country] * int(money))"
   ]
  },
  {
   "cell_type": "code",
   "execution_count": 40,
   "metadata": {},
   "outputs": [
    {
     "name": "stdout",
     "output_type": "stream",
     "text": [
      "num1:1\n",
      "num2:2\n",
      "num3:3\n",
      "3\n"
     ]
    }
   ],
   "source": [
    "num1 = int(input(\"num1:\"))\n",
    "num2 = int(input(\"num2:\"))\n",
    "num3 = int(input(\"num3:\"))\n",
    "\n",
    "print(max(num1, num2, num3))"
   ]
  },
  {
   "cell_type": "code",
   "execution_count": 43,
   "metadata": {},
   "outputs": [
    {
     "name": "stdout",
     "output_type": "stream",
     "text": [
      "휴대전화 번호 입력 : 011-515-451\n",
      "SKT\n"
     ]
    }
   ],
   "source": [
    "phone = input(\"휴대전화 번호 입력 : \")\n",
    "commnication_center = { \"011\":\"SKT\", \"016\":\"KT\", \"019\":\"LGU\", \"010\":\"알수없음\"}\n",
    "\n",
    "phone_commu = phone.split('-')[0]\n",
    "\n",
    "print(commnication_center[phone_commu])"
   ]
  },
  {
   "cell_type": "code",
   "execution_count": 46,
   "metadata": {},
   "outputs": [
    {
     "name": "stdout",
     "output_type": "stream",
     "text": [
      "우편번호:01125\n",
      "강북구\n"
     ]
    }
   ],
   "source": [
    "gu_num = input(\"우편번호:\")\n",
    "\n",
    "gu = gu_num[:3]\n",
    "if gu == \"010\" or gu == \"011\" or gu == \"012\":\n",
    "    print(\"강북구\")\n",
    "# if gu in [\"010\", \"011\", \"012\"]: 로 대신할 수 있다.\n",
    "\n",
    "if gu == \"013\" or gu == \"014\" or gu == \"015\":\n",
    "    print(\"도봉구\")\n",
    "if gu == \"016\" or gu == \"017\" or gu == \"018\" or gu == \"019\":\n",
    "    print(\"노원구\")    "
   ]
  },
  {
   "cell_type": "code",
   "execution_count": 49,
   "metadata": {},
   "outputs": [
    {
     "name": "stdout",
     "output_type": "stream",
     "text": [
      "주민등록번호:121212-145444\n",
      "남자\n"
     ]
    }
   ],
   "source": [
    "num = input(\"주민등록번호:\")\n",
    "\n",
    "sex = num[7:8]\n",
    "if sex in [\"1\", \"3\"]:\n",
    "    print(\"남자\")\n",
    "if sex in [\"2\", \"4\"]:\n",
    "    print(\"여자\")"
   ]
  },
  {
   "cell_type": "code",
   "execution_count": 52,
   "metadata": {},
   "outputs": [
    {
     "name": "stdout",
     "output_type": "stream",
     "text": [
      "주민등록번호: 821010-1635210\n",
      "유효하지 않은 주민등록번호입니다.\n"
     ]
    }
   ],
   "source": [
    "# 길어서 답안을 가져왔어요. 절대 변수를 한글로 만들지 않았으면 합니다.\n",
    "num = input(\"주민등록번호: \")\n",
    "계산1 = int(num[0]) * 2 + int(num[1]) * 3 + int(num[2]) * 4 + int(num[3]) * 5 + int(num[4]) * 6 + \\\n",
    "        int(num[5]) * 7 + int(num[7]) * 8 + int(num[8]) * 9 + int(num[9]) * 2 + int(num[10])* 3 + \\\n",
    "        int(num[11])* 4 + int(num[12]) * 5\n",
    "계산2 = 11 - (계산1 % 11)\n",
    "계산3 = str(계산2)\n",
    "\n",
    "if num[-1] == 계산3[-1]:\n",
    "    print(\"유효한 주민등록번호입니다.\")\n",
    "else:\n",
    "    print(\"유효하지 않은 주민등록번호입니다.\")"
   ]
  },
  {
   "cell_type": "code",
   "execution_count": 54,
   "metadata": {},
   "outputs": [
    {
     "name": "stdout",
     "output_type": "stream",
     "text": [
      "상승장\n"
     ]
    }
   ],
   "source": [
    "import requests\n",
    "btc = requests.get(\"https://api.bithumb.com/public/ticker/\").json()['data']\n",
    "\n",
    "변동폭 = float(btc['max_price']) - float(btc['min_price'])\n",
    "시가 = float(btc['opening_price'])\n",
    "최고가 = float(btc['max_price'])\n",
    "\n",
    "if (시가+변동폭) > 최고가:\n",
    "    print(\"상승장\")\n",
    "else:\n",
    "    print(\"하락장\")"
   ]
  },
  {
   "cell_type": "code",
   "execution_count": null,
   "metadata": {},
   "outputs": [],
   "source": []
  }
 ],
 "metadata": {
  "kernelspec": {
   "display_name": "Python 3 (ipykernel)",
   "language": "python",
   "name": "python3"
  },
  "language_info": {
   "codemirror_mode": {
    "name": "ipython",
    "version": 3
   },
   "file_extension": ".py",
   "mimetype": "text/x-python",
   "name": "python",
   "nbconvert_exporter": "python",
   "pygments_lexer": "ipython3",
   "version": "3.8.10"
  }
 },
 "nbformat": 4,
 "nbformat_minor": 4
}
