{
 "cells": [
  {
   "cell_type": "code",
   "execution_count": 2,
   "id": "53ee229f",
   "metadata": {},
   "outputs": [
    {
     "name": "stdout",
     "output_type": "stream",
     "text": [
      "32100\n",
      "32150\n",
      "32000\n",
      "32500\n"
     ]
    }
   ],
   "source": [
    "price_list = [32100, 32150, 32000, 32500]\n",
    "for i in range(len(price_list)):\n",
    "    print(price_list[i])"
   ]
  },
  {
   "cell_type": "code",
   "execution_count": 3,
   "id": "7cd07af8",
   "metadata": {},
   "outputs": [
    {
     "name": "stdout",
     "output_type": "stream",
     "text": [
      "0   32100\n",
      "1   32150\n",
      "2   32000\n",
      "3   32500\n"
     ]
    }
   ],
   "source": [
    "price_list = [32100, 32150, 32000, 32500]\n",
    "for i in range(len(price_list)):\n",
    "    print(i , \" \", price_list[i])"
   ]
  },
  {
   "cell_type": "code",
   "execution_count": 6,
   "id": "49cfded7",
   "metadata": {},
   "outputs": [
    {
     "name": "stdout",
     "output_type": "stream",
     "text": [
      "3   32100\n",
      "2   32150\n",
      "1   32000\n",
      "0   32500\n"
     ]
    }
   ],
   "source": [
    "price_list = [32100, 32150, 32000, 32500]\n",
    "for i in range(len(price_list)):\n",
    "    print(len(price_list)-1-i , \" \", price_list[i])"
   ]
  },
  {
   "cell_type": "code",
   "execution_count": 4,
   "id": "6637065e",
   "metadata": {},
   "outputs": [
    {
     "name": "stdout",
     "output_type": "stream",
     "text": [
      "100   32100\n",
      "110   32150\n",
      "120   32000\n",
      "130   32500\n"
     ]
    }
   ],
   "source": [
    "price_list = [32100, 32150, 32000, 32500]\n",
    "for i in range(len(price_list)):\n",
    "    print(100+i*10 , \" \", price_list[i])"
   ]
  },
  {
   "cell_type": "code",
   "execution_count": 8,
   "id": "5b3a91df",
   "metadata": {},
   "outputs": [
    {
     "name": "stdout",
     "output_type": "stream",
     "text": [
      "가   나\n",
      "나   다\n",
      "다   라\n"
     ]
    }
   ],
   "source": [
    "my_list = [\"가\", \"나\", \"다\", \"라\"]\n",
    "for i in range(len(my_list)-1):\n",
    "    print(my_list[i], \" \", my_list[i+1])"
   ]
  },
  {
   "cell_type": "code",
   "execution_count": 10,
   "id": "597f4111",
   "metadata": {},
   "outputs": [
    {
     "name": "stdout",
     "output_type": "stream",
     "text": [
      "가   나   다\n",
      "나   다   라\n",
      "다   라   마\n"
     ]
    }
   ],
   "source": [
    "my_list = [\"가\", \"나\", \"다\", \"라\", \"마\"]\n",
    "for i in range(len(my_list)-2):\n",
    "    print(my_list[i], \" \", my_list[i+1] , \" \", my_list[i+2] )"
   ]
  },
  {
   "cell_type": "code",
   "execution_count": 14,
   "id": "222d4bd9",
   "metadata": {},
   "outputs": [
    {
     "name": "stdout",
     "output_type": "stream",
     "text": [
      "라   다\n",
      "다   나\n",
      "나   가\n"
     ]
    }
   ],
   "source": [
    "my_list = [\"가\", \"나\", \"다\", \"라\"]\n",
    "for i in range(len(my_list)-1):\n",
    "    print(my_list[len(my_list)-i-1], \" \", my_list[len(my_list)-i-2])"
   ]
  },
  {
   "cell_type": "code",
   "execution_count": 15,
   "id": "62a5e002",
   "metadata": {},
   "outputs": [
    {
     "name": "stdout",
     "output_type": "stream",
     "text": [
      "100\n",
      "200\n",
      "400\n"
     ]
    }
   ],
   "source": [
    "my_list = [100, 200, 400, 800]\n",
    "for i in range(len(my_list)-1):\n",
    "    print(abs(my_list[i] -  my_list[i+1]))"
   ]
  },
  {
   "cell_type": "code",
   "execution_count": 18,
   "id": "ee3017b3",
   "metadata": {},
   "outputs": [
    {
     "name": "stdout",
     "output_type": "stream",
     "text": [
      "233.33333333333334\n",
      "466.6666666666667\n",
      "733.3333333333334\n",
      "1033.3333333333333\n"
     ]
    }
   ],
   "source": [
    "my_list = [100, 200, 400, 800, 1000, 1300]\n",
    "for i in range(len(my_list)-2):\n",
    "    print((my_list[i] +  my_list[i+1] + my_list[i+2])/3)"
   ]
  },
  {
   "cell_type": "code",
   "execution_count": 20,
   "id": "2109eefc",
   "metadata": {},
   "outputs": [
    {
     "data": {
      "text/plain": [
       "[50, 100, 30, 80, 0]"
      ]
     },
     "execution_count": 20,
     "metadata": {},
     "output_type": "execute_result"
    }
   ],
   "source": [
    "low_prices  = [100, 200, 400, 800, 1000]\n",
    "high_prices = [150, 300, 430, 880, 1000]\n",
    "volatility = []\n",
    "for i in range(len(low_prices)) :\n",
    "    volatility.append(high_prices[i] - low_prices[i])\n",
    "volatility"
   ]
  },
  {
   "cell_type": "code",
   "execution_count": 23,
   "id": "3d42e411",
   "metadata": {},
   "outputs": [
    {
     "data": {
      "text/plain": [
       "[['101호', '102호'], ['201호', '202호'], ['301호', '302호']]"
      ]
     },
     "execution_count": 23,
     "metadata": {},
     "output_type": "execute_result"
    }
   ],
   "source": [
    "apart = [[\"101호\", \"102호\"],[\"201호\", \"202호\"],[\"301호\", \"302호\"]]\n",
    "apart"
   ]
  },
  {
   "cell_type": "code",
   "execution_count": 24,
   "id": "5e5ef056",
   "metadata": {},
   "outputs": [
    {
     "data": {
      "text/plain": [
       "[[10, 80], [200, 210], [300, 330]]"
      ]
     },
     "execution_count": 24,
     "metadata": {},
     "output_type": "execute_result"
    }
   ],
   "source": [
    "stock = [[10, 80], [200, 210], [300, 330]]\n",
    "stock"
   ]
  },
  {
   "cell_type": "code",
   "execution_count": 27,
   "id": "e6d89619",
   "metadata": {},
   "outputs": [
    {
     "name": "stdout",
     "output_type": "stream",
     "text": [
      "{100: 80, 200: 210, 300: 330}\n"
     ]
    }
   ],
   "source": [
    "stock = {100:80, 200:210, 300:330}\n",
    "print(stock)"
   ]
  },
  {
   "cell_type": "code",
   "execution_count": 28,
   "id": "b0e51b6d",
   "metadata": {},
   "outputs": [
    {
     "data": {
      "text/plain": [
       "{'10/10': [80, 110, 70, 90], '10/11': [210, 230, 190, 200]}"
      ]
     },
     "execution_count": 28,
     "metadata": {},
     "output_type": "execute_result"
    }
   ],
   "source": [
    "stock = {\"10/10\" : [80, 110, 70, 90], \"10/11\":[210, 230, 190, 200]}\n",
    "stock"
   ]
  },
  {
   "cell_type": "code",
   "execution_count": 32,
   "id": "9d9aa001",
   "metadata": {},
   "outputs": [
    {
     "name": "stdout",
     "output_type": "stream",
     "text": [
      "101 호\n",
      "102 호\n",
      "201 호\n",
      "202 호\n",
      "301 호\n",
      "302 호\n"
     ]
    }
   ],
   "source": [
    "apart = [ [101, 102], [201, 202], [301, 302] ]\n",
    "for i in range(len(apart)):\n",
    "    print(apart[i][0] , \"호\")\n",
    "    print(apart[i][1] , \"호\")"
   ]
  },
  {
   "cell_type": "code",
   "execution_count": 35,
   "id": "4e640eb8",
   "metadata": {},
   "outputs": [
    {
     "name": "stdout",
     "output_type": "stream",
     "text": [
      "301 호\n",
      "302 호\n",
      "201 호\n",
      "202 호\n",
      "101 호\n",
      "102 호\n"
     ]
    }
   ],
   "source": [
    "for row in apart[::-1]:\n",
    "    for col in row:\n",
    "        print(col, \"호\")"
   ]
  },
  {
   "cell_type": "code",
   "execution_count": 34,
   "id": "0bcbda6e",
   "metadata": {},
   "outputs": [
    {
     "name": "stdout",
     "output_type": "stream",
     "text": [
      "302 호\n",
      "301 호\n",
      "202 호\n",
      "201 호\n",
      "102 호\n",
      "101 호\n"
     ]
    }
   ],
   "source": [
    "for row in apart[::-1]:\n",
    "    for col in row[::-1]:\n",
    "        print(col, \"호\")"
   ]
  },
  {
   "cell_type": "code",
   "execution_count": 37,
   "id": "6dbc32b5",
   "metadata": {},
   "outputs": [
    {
     "name": "stdout",
     "output_type": "stream",
     "text": [
      "101 호\n",
      "----\n",
      "102 호\n",
      "----\n",
      "201 호\n",
      "----\n",
      "202 호\n",
      "----\n",
      "301 호\n",
      "----\n",
      "302 호\n",
      "----\n"
     ]
    }
   ],
   "source": [
    "apart = [ [101, 102], [201, 202], [301, 302] ]\n",
    "for i in range(len(apart)):\n",
    "    print(apart[i][0] , \"호\")\n",
    "    print(\"----\")\n",
    "    print(apart[i][1] , \"호\")\n",
    "    print(\"----\")"
   ]
  },
  {
   "cell_type": "code",
   "execution_count": 38,
   "id": "374c7d6f",
   "metadata": {},
   "outputs": [
    {
     "name": "stdout",
     "output_type": "stream",
     "text": [
      "101 호\n",
      "102 호\n",
      "----\n",
      "201 호\n",
      "202 호\n",
      "----\n",
      "301 호\n",
      "302 호\n",
      "----\n"
     ]
    }
   ],
   "source": [
    "apart = [ [101, 102], [201, 202], [301, 302] ]\n",
    "for i in range(len(apart)):\n",
    "    print(apart[i][0] , \"호\")\n",
    "    print(apart[i][1] , \"호\")\n",
    "    print(\"----\")"
   ]
  },
  {
   "cell_type": "code",
   "execution_count": 39,
   "id": "cd0c30e9",
   "metadata": {},
   "outputs": [
    {
     "name": "stdout",
     "output_type": "stream",
     "text": [
      "101 호\n",
      "102 호\n",
      "201 호\n",
      "202 호\n",
      "301 호\n",
      "302 호\n",
      "----\n"
     ]
    }
   ],
   "source": [
    "apart = [ [101, 102], [201, 202], [301, 302] ]\n",
    "for i in range(len(apart)):\n",
    "    print(apart[i][0] , \"호\")\n",
    "    print(apart[i][1] , \"호\")\n",
    "print(\"----\")"
   ]
  },
  {
   "cell_type": "code",
   "execution_count": 43,
   "id": "a776880a",
   "metadata": {},
   "outputs": [
    {
     "name": "stdout",
     "output_type": "stream",
     "text": [
      "2000.28\n",
      "3050.427\n",
      "2050.287\n",
      "1980.2772\n",
      "7501.05\n",
      "2050.287\n",
      "2050.287\n",
      "1980.2772\n",
      "15452.163\n",
      "15052.107\n",
      "15552.177\n",
      "14902.086\n"
     ]
    }
   ],
   "source": [
    "data = [\n",
    "    [ 2000,  3050,  2050,  1980],\n",
    "    [ 7500,  2050,  2050,  1980],\n",
    "    [15450, 15050, 15550, 14900]\n",
    "]\n",
    "\n",
    "for i in range(len(data)):\n",
    "    for j in range(len(data[i])):\n",
    "        print(data[i][j]*0.00014 + data[i][j])"
   ]
  },
  {
   "cell_type": "code",
   "execution_count": 44,
   "id": "083b59f4",
   "metadata": {},
   "outputs": [
    {
     "name": "stdout",
     "output_type": "stream",
     "text": [
      "2000.28\n",
      "3050.427\n",
      "2050.287\n",
      "1980.2772\n",
      "----\n",
      "7501.05\n",
      "2050.287\n",
      "2050.287\n",
      "1980.2772\n",
      "----\n",
      "15452.163\n",
      "15052.107\n",
      "15552.177\n",
      "14902.086\n",
      "----\n"
     ]
    }
   ],
   "source": [
    "data = [\n",
    "    [ 2000,  3050,  2050,  1980],\n",
    "    [ 7500,  2050,  2050,  1980],\n",
    "    [15450, 15050, 15550, 14900]\n",
    "]\n",
    "\n",
    "for i in range(len(data)):\n",
    "    for j in range(len(data[i])):\n",
    "        print(data[i][j]*0.00014 + data[i][j])\n",
    "    print(\"----\")"
   ]
  },
  {
   "cell_type": "code",
   "execution_count": 45,
   "id": "40515283",
   "metadata": {},
   "outputs": [
    {
     "data": {
      "text/plain": [
       "[2000.28,\n",
       " 3050.427,\n",
       " 2050.287,\n",
       " 1980.2772,\n",
       " 7501.05,\n",
       " 2050.287,\n",
       " 2050.287,\n",
       " 1980.2772,\n",
       " 15452.163,\n",
       " 15052.107,\n",
       " 15552.177,\n",
       " 14902.086]"
      ]
     },
     "execution_count": 45,
     "metadata": {},
     "output_type": "execute_result"
    }
   ],
   "source": [
    "data = [\n",
    "    [ 2000,  3050,  2050,  1980],\n",
    "    [ 7500,  2050,  2050,  1980],\n",
    "    [15450, 15050, 15550, 14900]\n",
    "]\n",
    "\n",
    "result = []\n",
    "\n",
    "for i in range(len(data)):\n",
    "    for j in range(len(data[i])):\n",
    "        result.append(data[i][j]*0.00014 + data[i][j])\n",
    "        \n",
    "result"
   ]
  },
  {
   "cell_type": "code",
   "execution_count": 46,
   "id": "492cb28e",
   "metadata": {},
   "outputs": [
    {
     "data": {
      "text/plain": [
       "[[2000.28, 3050.427, 2050.287, 1980.2772],\n",
       " [7501.05, 2050.287, 2050.287, 1980.2772],\n",
       " [15452.163, 15052.107, 15552.177, 14902.086]]"
      ]
     },
     "execution_count": 46,
     "metadata": {},
     "output_type": "execute_result"
    }
   ],
   "source": [
    "data = [\n",
    "    [ 2000,  3050,  2050,  1980],\n",
    "    [ 7500,  2050,  2050,  1980],\n",
    "    [15450, 15050, 15550, 14900]\n",
    "]\n",
    "\n",
    "result = []\n",
    "\n",
    "for i in range(len(data)):\n",
    "    result_2 = []\n",
    "    for j in range(len(data[i])):\n",
    "        result_2.append(data[i][j]*0.00014 + data[i][j])\n",
    "    result.append(result_2)\n",
    "        \n",
    "result"
   ]
  },
  {
   "cell_type": "code",
   "execution_count": 49,
   "id": "f1d5c5eb",
   "metadata": {},
   "outputs": [
    {
     "name": "stdout",
     "output_type": "stream",
     "text": [
      "100\n",
      "190\n",
      "310\n"
     ]
    }
   ],
   "source": [
    "ohlc = [[\"open\", \"high\", \"low\", \"close\"],\n",
    "        [100, 110, 70, 100],\n",
    "        [200, 210, 180, 190],\n",
    "        [300, 310, 300, 310]]\n",
    "for row in ohlc[1:]:\n",
    "    print(row[3])"
   ]
  },
  {
   "cell_type": "code",
   "execution_count": 51,
   "id": "0fa362a5",
   "metadata": {},
   "outputs": [
    {
     "name": "stdout",
     "output_type": "stream",
     "text": [
      "190\n",
      "310\n"
     ]
    }
   ],
   "source": [
    "ohlc = [[\"open\", \"high\", \"low\", \"close\"],\n",
    "        [100, 110, 70, 100],\n",
    "        [200, 210, 180, 190],\n",
    "        [300, 310, 300, 310]]\n",
    "for row in ohlc[1:]:\n",
    "    if row[3] > 150:\n",
    "        print(row[3])"
   ]
  },
  {
   "cell_type": "code",
   "execution_count": 53,
   "id": "ead72212",
   "metadata": {},
   "outputs": [
    {
     "name": "stdout",
     "output_type": "stream",
     "text": [
      "100\n",
      "310\n"
     ]
    }
   ],
   "source": [
    "ohlc = [[\"open\", \"high\", \"low\", \"close\"],\n",
    "        [100, 110, 70, 100],\n",
    "        [200, 210, 180, 190],\n",
    "        [300, 310, 300, 310]]\n",
    "for row in ohlc[1:]:\n",
    "    if row[3] >= row[0]:\n",
    "        print(row[3])"
   ]
  },
  {
   "cell_type": "code",
   "execution_count": 56,
   "id": "f3dc54a3",
   "metadata": {},
   "outputs": [
    {
     "data": {
      "text/plain": [
       "[40, 30, 10]"
      ]
     },
     "execution_count": 56,
     "metadata": {},
     "output_type": "execute_result"
    }
   ],
   "source": [
    "ohlc = [[\"open\", \"high\", \"low\", \"close\"],\n",
    "        [100, 110, 70, 100],\n",
    "        [200, 210, 180, 190],\n",
    "        [300, 310, 300, 310]]\n",
    "volatility = []\n",
    "for row in ohlc[1:]:\n",
    "    volatility.append(row[1] - row[2]) \n",
    "volatility"
   ]
  },
  {
   "cell_type": "code",
   "execution_count": 57,
   "id": "e1288d5c",
   "metadata": {},
   "outputs": [
    {
     "name": "stdout",
     "output_type": "stream",
     "text": [
      "40\n"
     ]
    }
   ],
   "source": [
    "ohlc = [[\"open\", \"high\", \"low\", \"close\"],\n",
    "        [100, 110, 70, 100],\n",
    "        [200, 210, 180, 190],\n",
    "        [300, 310, 300, 310]]\n",
    "volatility = []\n",
    "for row in ohlc[1:]:\n",
    "    volatility.append(row[1] - row[2]) \n",
    "print(max(volatility))"
   ]
  },
  {
   "cell_type": "code",
   "execution_count": 59,
   "id": "a26d8d53",
   "metadata": {},
   "outputs": [
    {
     "name": "stdout",
     "output_type": "stream",
     "text": [
      "0\n"
     ]
    }
   ],
   "source": [
    "ohlc = [[\"open\", \"high\", \"low\", \"close\"],\n",
    "        [100, 110, 70, 100],\n",
    "        [200, 210, 180, 190],\n",
    "        [300, 310, 300, 310]]\n",
    "money = 0\n",
    "for row in ohlc[1:]:\n",
    "    money += (row[0] - row[3]) \n",
    "print(money)"
   ]
  },
  {
   "cell_type": "code",
   "execution_count": null,
   "id": "a31db1f4",
   "metadata": {},
   "outputs": [],
   "source": []
  }
 ],
 "metadata": {
  "kernelspec": {
   "display_name": "Python 3 (ipykernel)",
   "language": "python",
   "name": "python3"
  },
  "language_info": {
   "codemirror_mode": {
    "name": "ipython",
    "version": 3
   },
   "file_extension": ".py",
   "mimetype": "text/x-python",
   "name": "python",
   "nbconvert_exporter": "python",
   "pygments_lexer": "ipython3",
   "version": "3.8.15"
  }
 },
 "nbformat": 4,
 "nbformat_minor": 5
}
