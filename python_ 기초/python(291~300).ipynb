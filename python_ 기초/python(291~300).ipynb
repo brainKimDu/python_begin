{
 "cells": [
  {
   "cell_type": "code",
   "execution_count": 2,
   "id": "982f90ca",
   "metadata": {},
   "outputs": [],
   "source": [
    "f = open(\"./매수종목1.txt\", mode='wt', encoding='utf-8')\n",
    "f.write(\"005930\\n\")\n",
    "f.write(\"005380\\n\")\n",
    "f.write(\"035420\\n\")\n",
    "f.close()"
   ]
  },
  {
   "cell_type": "code",
   "execution_count": 3,
   "id": "7c8f2bcd",
   "metadata": {},
   "outputs": [],
   "source": [
    "f = open(\"./매수종목2.txt\", mode='wt', encoding='utf-8')\n",
    "f.write(\"005930 삼성전자\\n\")\n",
    "f.write(\"005380 현대차\\n\")\n",
    "f.write(\"035420 네이버\\n\")\n",
    "f.close()"
   ]
  },
  {
   "cell_type": "code",
   "execution_count": 5,
   "id": "4ce37682",
   "metadata": {},
   "outputs": [],
   "source": [
    "import csv\n",
    "f = open(\"./매수종목.csv\", mode='wt', encoding='euc-kr', newline='')\n",
    "writer = csv.writer(f)\n",
    "writer.writerow([\"종목명\", \"종목코드\", \"PER\"])\n",
    "writer.writerow([\"삼성전자\", \"005930\", 15.59])\n",
    "writer.writerow([\"NAVER\", \"035420\", 55.82])\n",
    "f.close()"
   ]
  },
  {
   "cell_type": "code",
   "execution_count": 7,
   "id": "dcd2a184",
   "metadata": {},
   "outputs": [
    {
     "data": {
      "text/plain": [
       "['005930', '005380', '035420']"
      ]
     },
     "execution_count": 7,
     "metadata": {},
     "output_type": "execute_result"
    }
   ],
   "source": [
    "f = open(\"./매수종목1.txt\", mode='r', encoding='utf-8')\n",
    "\n",
    "flist = []\n",
    "\n",
    "for line in f:\n",
    "    line_temp = line.strip()\n",
    "    flist.append(line_temp)\n",
    "    \n",
    "f.close()\n",
    "flist"
   ]
  },
  {
   "cell_type": "code",
   "execution_count": 8,
   "id": "3e519e62",
   "metadata": {},
   "outputs": [
    {
     "data": {
      "text/plain": [
       "{'005930': '삼성전자', '005380': '현대차', '035420': 'NAVER'}"
      ]
     },
     "execution_count": 8,
     "metadata": {},
     "output_type": "execute_result"
    }
   ],
   "source": [
    "f = open(\"./매수종목2.txt\", mode='r', encoding='utf-8')\n",
    "\n",
    "fdic = {}\n",
    "\n",
    "for line in f:\n",
    "    line_temp = line.strip()\n",
    "    key, value = line.split()\n",
    "    \n",
    "    fdic[key] = value\n",
    "    \n",
    "f.close()\n",
    "\n",
    "fdic"
   ]
  },
  {
   "cell_type": "code",
   "execution_count": 10,
   "id": "c57f0aa5",
   "metadata": {},
   "outputs": [
    {
     "name": "stdout",
     "output_type": "stream",
     "text": [
      "10.31\n",
      "0\n",
      "8.0\n"
     ]
    }
   ],
   "source": [
    "per = [\"10.31\", \"\", \"8.00\"]\n",
    "\n",
    "for i in per:\n",
    "    try:\n",
    "        print(float(i))\n",
    "    except:\n",
    "        print(0)"
   ]
  },
  {
   "cell_type": "code",
   "execution_count": 22,
   "id": "2ee6ccf5",
   "metadata": {},
   "outputs": [
    {
     "data": {
      "text/plain": [
       "[10.31, 0, 8.0]"
      ]
     },
     "execution_count": 22,
     "metadata": {},
     "output_type": "execute_result"
    }
   ],
   "source": [
    "per_flo = []\n",
    "per = [\"10.31\", \"\", \"8.00\"]\n",
    "\n",
    "for i in per:\n",
    "    try:\n",
    "        per_flo.append(float(i))\n",
    "    except:\n",
    "        per_flo.append(0)\n",
    "per_flo"
   ]
  },
  {
   "cell_type": "code",
   "execution_count": 29,
   "id": "240ce107",
   "metadata": {},
   "outputs": [
    {
     "name": "stdout",
     "output_type": "stream",
     "text": [
      "1\n",
      "2\n",
      "3\n",
      "list index out of range\n",
      "list index out of range\n"
     ]
    }
   ],
   "source": [
    "data = [1, 2, 3]\n",
    "\n",
    "for i in range(5):\n",
    "    try:\n",
    "        print(data[i])\n",
    "    except IndexError as e:\n",
    "        print(e)"
   ]
  },
  {
   "cell_type": "code",
   "execution_count": 31,
   "id": "6dffd1d3",
   "metadata": {},
   "outputs": [
    {
     "name": "stdout",
     "output_type": "stream",
     "text": [
      "10.31\n",
      "예외가 발생하지 않았습니다.\n",
      "변환완료\n",
      "0\n",
      "변환완료\n",
      "8.0\n",
      "예외가 발생하지 않았습니다.\n",
      "변환완료\n"
     ]
    }
   ],
   "source": [
    "per = [\"10.31\", \"\", \"8.00\"]\n",
    "\n",
    "for i in per:\n",
    "    try:\n",
    "        print(float(i))\n",
    "    except:\n",
    "        print(0)\n",
    "    else:\n",
    "        print(\"예외가 발생하지 않았습니다.\")\n",
    "    finally:\n",
    "        print(\"변환완료\")"
   ]
  },
  {
   "cell_type": "code",
   "execution_count": null,
   "id": "eddb23c3",
   "metadata": {},
   "outputs": [],
   "source": []
  }
 ],
 "metadata": {
  "kernelspec": {
   "display_name": "Python 3 (ipykernel)",
   "language": "python",
   "name": "python3"
  },
  "language_info": {
   "codemirror_mode": {
    "name": "ipython",
    "version": 3
   },
   "file_extension": ".py",
   "mimetype": "text/x-python",
   "name": "python",
   "nbconvert_exporter": "python",
   "pygments_lexer": "ipython3",
   "version": "3.8.13"
  }
 },
 "nbformat": 4,
 "nbformat_minor": 5
}
