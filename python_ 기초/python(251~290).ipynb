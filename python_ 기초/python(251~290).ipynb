{
 "cells": [
  {
   "cell_type": "markdown",
   "id": "5a0ec7e8",
   "metadata": {},
   "source": [
    "클래스 : 객체를 정의하는 틀\n",
    "\n",
    "\n",
    "객체 : 클래스에 선언된 모양 그대로 생성된 실체\n",
    "\n",
    "\n",
    "인스턴스 : 메모리에 할당되어 사용될 때"
   ]
  },
  {
   "cell_type": "code",
   "execution_count": 1,
   "id": "26e7890e",
   "metadata": {},
   "outputs": [],
   "source": [
    "class Human:\n",
    "    pass"
   ]
  },
  {
   "cell_type": "code",
   "execution_count": 2,
   "id": "1468d4af",
   "metadata": {},
   "outputs": [],
   "source": [
    "areum = Human()"
   ]
  },
  {
   "cell_type": "code",
   "execution_count": 3,
   "id": "641b48f6",
   "metadata": {},
   "outputs": [
    {
     "name": "stdout",
     "output_type": "stream",
     "text": [
      "응애응애\n"
     ]
    }
   ],
   "source": [
    "class Human:\n",
    "    def __init__(self):\n",
    "        print(\"응애응애\")\n",
    "areum = Human()"
   ]
  },
  {
   "cell_type": "code",
   "execution_count": 6,
   "id": "916e5868",
   "metadata": {},
   "outputs": [],
   "source": [
    "class Human:\n",
    "    def __init__(self, name, age, male):\n",
    "        self.name = name\n",
    "        self.age = age\n",
    "        self.male = male\n",
    "        \n",
    "areum = Human(\"아름\", 25, \"여자\")"
   ]
  },
  {
   "cell_type": "code",
   "execution_count": 8,
   "id": "72a2c6e7",
   "metadata": {},
   "outputs": [
    {
     "name": "stdout",
     "output_type": "stream",
     "text": [
      "이름 :  조아름 , 나이:  25 , 성별:  여자\n"
     ]
    }
   ],
   "source": [
    "areum = Human(\"조아름\", 25, \"여자\")\n",
    "print(\"이름 : \" , areum.name, \", 나이: \", areum.age, \", 성별: \", areum.male)"
   ]
  },
  {
   "cell_type": "code",
   "execution_count": 9,
   "id": "4711f2b0",
   "metadata": {},
   "outputs": [
    {
     "name": "stdout",
     "output_type": "stream",
     "text": [
      "이름 :  아름 , 나이:  25 , 성별:  여자\n"
     ]
    }
   ],
   "source": [
    "class Human:\n",
    "    def __init__(self, name, age, male):\n",
    "        self.name = name\n",
    "        self.age = age\n",
    "        self.male = male\n",
    "    \n",
    "    def setInfo(self, name, age, male):\n",
    "        self.name = name\n",
    "        self.age = age\n",
    "        self.male = male\n",
    "        \n",
    "areum = Human(\"모름\", 0, \"모름\")\n",
    "areum.setInfo(\"아름\", 25, \"여자\")\n",
    "print(\"이름 : \" , areum.name, \", 나이: \", areum.age, \", 성별: \", areum.male)"
   ]
  },
  {
   "cell_type": "code",
   "execution_count": 11,
   "id": "96313eee",
   "metadata": {},
   "outputs": [
    {
     "name": "stdout",
     "output_type": "stream",
     "text": [
      "나의 죽음을 알리지 마라\n"
     ]
    }
   ],
   "source": [
    "class Human:\n",
    "    def __init__(self, name, age, male):\n",
    "        self.name = name\n",
    "        self.age = age\n",
    "        self.male = male\n",
    "        \n",
    "    def __del__(self):\n",
    "        print(\"나의 죽음을 알리지 마라\")\n",
    "    \n",
    "    def setInfo(self, name, age, male):\n",
    "        self.name = name\n",
    "        self.age = age\n",
    "        self.male = male\n",
    "        \n",
    "areum = Human(\"모름\", 0, \"모름\")\n",
    "del(areum)"
   ]
  },
  {
   "cell_type": "code",
   "execution_count": 20,
   "id": "aa08b22b",
   "metadata": {},
   "outputs": [
    {
     "ename": "NameError",
     "evalue": "name 'mystock' is not defined",
     "output_type": "error",
     "traceback": [
      "\u001b[1;31m---------------------------------------------------------------------------\u001b[0m",
      "\u001b[1;31mNameError\u001b[0m                                 Traceback (most recent call last)",
      "Input \u001b[1;32mIn [20]\u001b[0m, in \u001b[0;36m<cell line: 5>\u001b[1;34m()\u001b[0m\n\u001b[0;32m      3\u001b[0m         \u001b[38;5;28mprint\u001b[39m(\u001b[38;5;124m\"\u001b[39m\u001b[38;5;124mOh my god\u001b[39m\u001b[38;5;124m\"\u001b[39m)\n\u001b[0;32m      4\u001b[0m myStock \u001b[38;5;241m=\u001b[39m OMG()       \n\u001b[1;32m----> 5\u001b[0m \u001b[43mmystock\u001b[49m\u001b[38;5;241m.\u001b[39mprint()\n",
      "\u001b[1;31mNameError\u001b[0m: name 'mystock' is not defined"
     ]
    }
   ],
   "source": [
    "class OMG : \n",
    "    def print(self) :\n",
    "        print(\"Oh my god\")\n",
    "myStock = OMG()       \n",
    "mystock.print()\n",
    "# 생성자가 없어서? 객체가 인스턴시에이션 하지 못한다"
   ]
  },
  {
   "cell_type": "code",
   "execution_count": 21,
   "id": "8fe05f68",
   "metadata": {},
   "outputs": [],
   "source": [
    "class stock:\n",
    "    pass"
   ]
  },
  {
   "cell_type": "code",
   "execution_count": 22,
   "id": "f33c788b",
   "metadata": {},
   "outputs": [],
   "source": [
    "class stock:\n",
    "    def __init__(self, name, num):\n",
    "        self.name = name\n",
    "        self.num = num\n",
    "\n",
    "samsung = stock(\"삼성전자\", \"005930\")"
   ]
  },
  {
   "cell_type": "code",
   "execution_count": 29,
   "id": "4d241a78",
   "metadata": {},
   "outputs": [],
   "source": [
    "class stock:\n",
    "    def __init__(self, name, num):\n",
    "        self.name = name\n",
    "        self.num = num\n",
    "        \n",
    "    def set_name(self, name):\n",
    "        self.name = name\n",
    "\n",
    "a = stock(None, None)\n",
    "a.set_name(\"삼성전자\")"
   ]
  },
  {
   "cell_type": "code",
   "execution_count": 30,
   "id": "7ab1c437",
   "metadata": {},
   "outputs": [],
   "source": [
    "class stock:\n",
    "    def __init__(self, name, num):\n",
    "        self.name = name\n",
    "        self.num = num\n",
    "\n",
    "    def set_code(self, num):\n",
    "        self.num = num\n",
    "\n",
    "a = stock(None, None)\n",
    "a.set_code(\"005930\")"
   ]
  },
  {
   "cell_type": "code",
   "execution_count": 37,
   "id": "483bb76f",
   "metadata": {},
   "outputs": [
    {
     "data": {
      "text/plain": [
       "('삼성전자', '005930')"
      ]
     },
     "execution_count": 37,
     "metadata": {},
     "output_type": "execute_result"
    }
   ],
   "source": [
    "class stock:\n",
    "    def __init__(self, name, num):\n",
    "        self.name = name\n",
    "        self.num = num\n",
    "        \n",
    "    def set_name(self, name):\n",
    "        self.name = name\n",
    "        \n",
    "    def set_code(self, num):\n",
    "        self.num = num\n",
    "        \n",
    "    def get_name(self):\n",
    "        return self.name\n",
    "    \n",
    "    def get_code(self):\n",
    "        return self.num\n",
    "    \n",
    "samsung = stock(\"삼성전자\", \"005930\")\n",
    "samsung.get_name(), samsung.get_code()"
   ]
  },
  {
   "cell_type": "code",
   "execution_count": 39,
   "id": "0e3aa7a8",
   "metadata": {},
   "outputs": [],
   "source": [
    "class stock:\n",
    "    def __init__(self, name, num, PER, PBR, benefit):\n",
    "        self.name = name\n",
    "        self.num = num\n",
    "        self.PER = PER\n",
    "        self.PBR = PBR\n",
    "        self.benefit = benefit\n",
    "        \n",
    "    def set_name(self, name):\n",
    "        self.name = name\n",
    "        \n",
    "    def set_code(self, num):\n",
    "        self.num = num\n",
    "        \n",
    "    def get_name(self):\n",
    "        return self.name\n",
    "    \n",
    "    def get_code(self):\n",
    "        return self.num\n",
    "    \n",
    "samsung = stock(\"삼성전자\", \"005930\", \"15.79\", \"1.33\", \"2.83\")"
   ]
  },
  {
   "cell_type": "code",
   "execution_count": 40,
   "id": "5b1b30ca",
   "metadata": {},
   "outputs": [],
   "source": [
    "class stock:\n",
    "    def __init__(self, name, num, PER, PBR, benefit):\n",
    "        self.name = name\n",
    "        self.num = num\n",
    "        self.PER = PER\n",
    "        self.PBR = PBR\n",
    "        self.benefit = benefit\n",
    "        \n",
    "    def set_name(self, name):\n",
    "        self.name = name\n",
    "        \n",
    "    def set_code(self, num):\n",
    "        self.num = num\n",
    "        \n",
    "    def set_per(self, PER):\n",
    "        self.PER = PER\n",
    "        \n",
    "    def set_pbr(self, PBR):\n",
    "        self.pbr = pbr\n",
    "        \n",
    "    def set_dividend(self, benefit):\n",
    "        self.benefit = benefit        \n",
    "        \n",
    "        \n",
    "    def get_name(self):\n",
    "        return self.name\n",
    "    \n",
    "    def get_code(self):\n",
    "        return self.num\n",
    "    \n",
    "samsung = stock(\"삼성전자\", \"005930\", \"15.79\", \"1.33\", \"2.83\")"
   ]
  },
  {
   "cell_type": "code",
   "execution_count": 41,
   "id": "93552e2b",
   "metadata": {},
   "outputs": [
    {
     "data": {
      "text/plain": [
       "'12.75'"
      ]
     },
     "execution_count": 41,
     "metadata": {},
     "output_type": "execute_result"
    }
   ],
   "source": [
    "samsung.set_per(\"12.75\")\n",
    "samsung.PER"
   ]
  },
  {
   "cell_type": "code",
   "execution_count": 45,
   "id": "108fef7f",
   "metadata": {},
   "outputs": [
    {
     "name": "stdout",
     "output_type": "stream",
     "text": [
      "005930 15.79\n",
      "005380 8.7\n",
      "066570 317.34\n"
     ]
    }
   ],
   "source": [
    "종목 = []\n",
    "\n",
    "삼성 = stock(\"삼성전자\", \"005930\", 15.79, 1.33, 2.83)\n",
    "현대차 = stock(\"현대차\", \"005380\", 8.70, 0.35, 4.27)\n",
    "LG전자 = stock(\"LG전자\", \"066570\", 317.34, 0.69, 1.37)\n",
    "\n",
    "종목.append(삼성)\n",
    "종목.append(현대차)\n",
    "종목.append(LG전자)\n",
    "\n",
    "for i in 종목:\n",
    "    print(i.num, i.PER) "
   ]
  },
  {
   "cell_type": "code",
   "execution_count": 57,
   "id": "21b6e0f7",
   "metadata": {},
   "outputs": [],
   "source": [
    "import random\n",
    "class Account:\n",
    "    def __init__(self, name, money):\n",
    "        self.name = name\n",
    "        self.money = money\n",
    "        self.bank = \"sc은행\"\n",
    "        \n",
    "        num1 = random.randint(0, 999)\n",
    "        num2 = random.randint(0, 99)\n",
    "        num3 = random.randint(0, 999999)\n",
    "\n",
    "        num1 = str(num1).zfill(3)      # 1 -> '1' -> '001'\n",
    "        num2 = str(num2).zfill(2)      # 1 -> '1' -> '01'\n",
    "        num3 = str(num3).zfill(6)      # 1 -> '1' -> '0000001'\n",
    "        self.account_number = num1 + '-' + num2 + '-' + num3  # 001-01-000001\n",
    "        "
   ]
  },
  {
   "cell_type": "code",
   "execution_count": 75,
   "id": "5b4c3c81",
   "metadata": {},
   "outputs": [],
   "source": [
    "class Account:\n",
    "    count = 0\n",
    "    \n",
    "    def __init__(self, name, money):\n",
    "        self.name = name\n",
    "        self.money = money\n",
    "        self.bank = \"sc은행\"\n",
    "        \n",
    "        num1 = random.randint(0, 999)\n",
    "        num2 = random.randint(0, 99)\n",
    "        num3 = random.randint(0, 999999)\n",
    "\n",
    "        num1 = str(num1).zfill(3)      # 1 -> '1' -> '001'\n",
    "        num2 = str(num2).zfill(2)      # 1 -> '1' -> '01'\n",
    "        num3 = str(num3).zfill(6)      # 1 -> '1' -> '0000001'\n",
    "        self.account_number = num1 + '-' + num2 + '-' + num3  # 001-01-000001\n",
    "        \n",
    "        Account.count += 1\n",
    "        \n"
   ]
  },
  {
   "cell_type": "code",
   "execution_count": 59,
   "id": "6352b91e",
   "metadata": {},
   "outputs": [],
   "source": [
    "class Account:\n",
    "    count = 0\n",
    "    \n",
    "    def __init__(self, name, money):\n",
    "        self.name = name\n",
    "        self.money = money\n",
    "        self.bank = \"sc은행\"\n",
    "        \n",
    "        num1 = random.randint(0, 999)\n",
    "        num2 = random.randint(0, 99)\n",
    "        num3 = random.randint(0, 999999)\n",
    "\n",
    "        num1 = str(num1).zfill(3)      # 1 -> '1' -> '001'\n",
    "        num2 = str(num2).zfill(2)      # 1 -> '1' -> '01'\n",
    "        num3 = str(num3).zfill(6)      # 1 -> '1' -> '0000001'\n",
    "        self.account_number = num1 + '-' + num2 + '-' + num3  # 001-01-000001\n",
    "        Account.count += 1\n",
    "        \n",
    "    def get_account_num(self):\n",
    "        return count\n",
    "    "
   ]
  },
  {
   "cell_type": "code",
   "execution_count": 60,
   "id": "6ca61dd6",
   "metadata": {},
   "outputs": [],
   "source": [
    "class Account:\n",
    "    count = 0\n",
    "    \n",
    "    def __init__(self, name, money):\n",
    "        self.name = name\n",
    "        self.money = money\n",
    "        self.bank = \"sc은행\"\n",
    "        \n",
    "        num1 = random.randint(0, 999)\n",
    "        num2 = random.randint(0, 99)\n",
    "        num3 = random.randint(0, 999999)\n",
    "\n",
    "        num1 = str(num1).zfill(3)      # 1 -> '1' -> '001'\n",
    "        num2 = str(num2).zfill(2)      # 1 -> '1' -> '01'\n",
    "        num3 = str(num3).zfill(6)      # 1 -> '1' -> '0000001'\n",
    "        self.account_number = num1 + '-' + num2 + '-' + num3  # 001-01-000001\n",
    "        Account.count += 1\n",
    "        \n",
    "    def get_account_num(self):\n",
    "        return count\n",
    "    \n",
    "    def deposit(self, money):\n",
    "        self.money += money"
   ]
  },
  {
   "cell_type": "code",
   "execution_count": 61,
   "id": "539dd94b",
   "metadata": {},
   "outputs": [],
   "source": [
    "class Account:\n",
    "    count = 0\n",
    "    \n",
    "    def __init__(self, name, money):\n",
    "        self.name = name\n",
    "        self.money = money\n",
    "        self.bank = \"sc은행\"\n",
    "        \n",
    "        num1 = random.randint(0, 999)\n",
    "        num2 = random.randint(0, 99)\n",
    "        num3 = random.randint(0, 999999)\n",
    "\n",
    "        num1 = str(num1).zfill(3)      # 1 -> '1' -> '001'\n",
    "        num2 = str(num2).zfill(2)      # 1 -> '1' -> '01'\n",
    "        num3 = str(num3).zfill(6)      # 1 -> '1' -> '0000001'\n",
    "        self.account_number = num1 + '-' + num2 + '-' + num3  # 001-01-000001\n",
    "        Account.count += 1\n",
    "        \n",
    "    def get_account_num(self):\n",
    "        return count\n",
    "    \n",
    "    def deposit(self, money):\n",
    "        self.money += money\n",
    "        \n",
    "    def withdraw(self, money):\n",
    "        if(self.money > money):\n",
    "            self.money -= money"
   ]
  },
  {
   "cell_type": "code",
   "execution_count": 62,
   "id": "289021ed",
   "metadata": {},
   "outputs": [],
   "source": [
    "class Account:\n",
    "    count = 0\n",
    "    \n",
    "    def __init__(self, name, money):\n",
    "        self.name = name\n",
    "        self.money = money\n",
    "        self.bank = \"sc은행\"\n",
    "        \n",
    "        num1 = random.randint(0, 999)\n",
    "        num2 = random.randint(0, 99)\n",
    "        num3 = random.randint(0, 999999)\n",
    "\n",
    "        num1 = str(num1).zfill(3)      # 1 -> '1' -> '001'\n",
    "        num2 = str(num2).zfill(2)      # 1 -> '1' -> '01'\n",
    "        num3 = str(num3).zfill(6)      # 1 -> '1' -> '0000001'\n",
    "        self.account_number = num1 + '-' + num2 + '-' + num3  # 001-01-000001\n",
    "        Account.count += 1\n",
    "        \n",
    "    def get_account_num(self):\n",
    "        return count\n",
    "    \n",
    "    def deposit(self, money):\n",
    "        self.money += money\n",
    "        \n",
    "    def withdraw(self, money):\n",
    "        if(self.money > money):\n",
    "            self.money -= money\n",
    "        \n",
    "    def display_info(self):\n",
    "        print(\"은행이름 : \",  self.bank )\n",
    "        print(\"예금주 : \",  self.name )\n",
    "        print(\"계좌번호 : \",  self.account_number )\n",
    "        print(\"잔고 : \",  self.money )"
   ]
  },
  {
   "cell_type": "code",
   "execution_count": 79,
   "id": "111cd322",
   "metadata": {},
   "outputs": [
    {
     "name": "stdout",
     "output_type": "stream",
     "text": [
      "[<__main__.Account object at 0x000002454F30C460>, <__main__.Account object at 0x000002454F30C8E0>, <__main__.Account object at 0x000002454F249C10>]\n"
     ]
    }
   ],
   "source": [
    "class Account:\n",
    "    count = 0\n",
    "    \n",
    "    \n",
    "    def __init__(self, name, money):\n",
    "        self.deposit_count = 0\n",
    "        self.name = name\n",
    "        self.money = money\n",
    "        self.bank = \"sc은행\"\n",
    "        \n",
    "        num1 = random.randint(0, 999)\n",
    "        num2 = random.randint(0, 99)\n",
    "        num3 = random.randint(0, 999999)\n",
    "\n",
    "        num1 = str(num1).zfill(3)      # 1 -> '1' -> '001'\n",
    "        num2 = str(num2).zfill(2)      # 1 -> '1' -> '01'\n",
    "        num3 = str(num3).zfill(6)      # 1 -> '1' -> '0000001'\n",
    "        self.account_number = num1 + '-' + num2 + '-' + num3  # 001-01-000001\n",
    "        Account.count  += 1\n",
    "        \n",
    "    def get_account_num(cls):\n",
    "        print(cls.account_count)\n",
    "    \n",
    "    def deposit(self, money):\n",
    "        self.money += money\n",
    "        deposit_count += 1\n",
    "        if(deposit_count % 5 == 0):\n",
    "            self.money += self.money * 0.01\n",
    "            deposit_count = 0\n",
    "        \n",
    "    def withdraw(self, money):\n",
    "        if(self.money > money):\n",
    "            self.money -= money\n",
    "        \n",
    "    def display_info(self):\n",
    "        print(\"은행이름 : \",  self.bank )\n",
    "        print(\"예금주 : \",  self.name )\n",
    "        print(\"계좌번호 : \",  self.account_number )\n",
    "        print(\"잔고 : \",  self.money )\n",
    "\n",
    "data = []\n",
    "k = Account(\"KIM\", 10000000)\n",
    "l = Account(\"LEE\", 10000)\n",
    "p = Account(\"PARK\", 10000)\n",
    "\n",
    "data.append(k)\n",
    "data.append(l)\n",
    "data.append(p)\n",
    "\n",
    "print(data)"
   ]
  },
  {
   "cell_type": "code",
   "execution_count": 80,
   "id": "e9884b0e",
   "metadata": {},
   "outputs": [
    {
     "name": "stdout",
     "output_type": "stream",
     "text": [
      "은행이름 :  sc은행\n",
      "예금주 :  KIM\n",
      "계좌번호 :  667-69-663772\n",
      "잔고 :  10000000\n"
     ]
    }
   ],
   "source": [
    "data = []\n",
    "k = Account(\"KIM\", 10000000)\n",
    "l = Account(\"LEE\", 10000)\n",
    "p = Account(\"PARK\", 10000)\n",
    "data.append(k)\n",
    "data.append(l)\n",
    "data.append(p)\n",
    "\n",
    "for c in data:\n",
    "    if c.money >= 1000000:\n",
    "        c.display_info()"
   ]
  },
  {
   "cell_type": "code",
   "execution_count": 81,
   "id": "a2ede660",
   "metadata": {},
   "outputs": [],
   "source": [
    "import random\n",
    "\n",
    "\n",
    "class Account:\n",
    "    # class variable\n",
    "    account_count = 0\n",
    "\n",
    "    def __init__(self, name, balance):\n",
    "        self.deposit_count = 0\n",
    "        self.deposit_log = []\n",
    "        self.withdraw_log = []\n",
    "\n",
    "        self.name = name\n",
    "        self.balance = balance\n",
    "        self.bank = \"SC은행\"\n",
    "\n",
    "        # 3-2-6\n",
    "        num1 = random.randint(0, 999)\n",
    "        num2 = random.randint(0, 99)\n",
    "        num3 = random.randint(0, 999999)\n",
    "\n",
    "        num1 = str(num1).zfill(3)  # 1 -> '1' -> '001'\n",
    "        num2 = str(num2).zfill(2)  # 1 -> '1' -> '01'\n",
    "        num3 = str(num3).zfill(6)  # 1 -> '1' -> '0000001'\n",
    "        self.account_number = num1 + '-' + num2 + '-' + num3  # 001-01-000001\n",
    "        Account.account_count += 1\n",
    "\n",
    "    @classmethod\n",
    "    def get_account_num(cls):\n",
    "        print(cls.account_count)  # Account.account_count\n",
    "\n",
    "    def deposit(self, amount):\n",
    "        if amount >= 1:\n",
    "            self.deposit_log.append(amount)\n",
    "            self.balance += amount\n",
    "\n",
    "            self.deposit_count += 1\n",
    "            if self.deposit_count % 5 == 0:         # 5, 10, 15\n",
    "                # 이자 지금\n",
    "                self.balance = (self.balance * 1.01)\n",
    "\n",
    "\n",
    "    def withdraw(self, amount):\n",
    "        if self.balance > amount:\n",
    "            self.withdraw_log.append(amount)\n",
    "            self.balance -= amount\n",
    "\n",
    "    def display_info(self):\n",
    "        print(\"은행이름: \", self.bank)\n",
    "        print(\"예금주: \", self.name)\n",
    "        print(\"계좌번호: \", self.account_number)\n",
    "        print(\"잔고: \", self.balance)\n",
    "\n",
    "    def withdraw_history(self):\n",
    "        for amount in self.withdraw_log:\n",
    "            print(amount)\n",
    "\n",
    "    def deposit_history(self):\n",
    "        for amount in self.deposit_log:\n",
    "            print(amount)\n"
   ]
  },
  {
   "cell_type": "code",
   "execution_count": 85,
   "id": "215160ab",
   "metadata": {},
   "outputs": [
    {
     "data": {
      "text/plain": [
       "(2, 10000)"
      ]
     },
     "execution_count": 85,
     "metadata": {},
     "output_type": "execute_result"
    }
   ],
   "source": [
    "class car:\n",
    "    def __init__(self, wheel, price):\n",
    "        self.wheel = wheel\n",
    "        self.price = price\n",
    "car = car(2, 10000)\n",
    "car.wheel, car.price"
   ]
  },
  {
   "cell_type": "code",
   "execution_count": 86,
   "id": "c93b5a31",
   "metadata": {},
   "outputs": [
    {
     "ename": "TypeError",
     "evalue": "__init__() takes 3 positional arguments but 4 were given",
     "output_type": "error",
     "traceback": [
      "\u001b[1;31m---------------------------------------------------------------------------\u001b[0m",
      "\u001b[1;31mTypeError\u001b[0m                                 Traceback (most recent call last)",
      "Input \u001b[1;32mIn [86]\u001b[0m, in \u001b[0;36m<cell line: 1>\u001b[1;34m()\u001b[0m\n\u001b[1;32m----> 1\u001b[0m \u001b[38;5;28;01mclass\u001b[39;00m \u001b[38;5;21;01mbicycle\u001b[39;00m(car):\n\u001b[0;32m      2\u001b[0m     \u001b[38;5;28;01mpass\u001b[39;00m\n",
      "\u001b[1;31mTypeError\u001b[0m: __init__() takes 3 positional arguments but 4 were given"
     ]
    }
   ],
   "source": [
    "class bicycle(car):\n",
    "    pass"
   ]
  },
  {
   "cell_type": "code",
   "execution_count": 94,
   "id": "867c5024",
   "metadata": {},
   "outputs": [
    {
     "name": "stdout",
     "output_type": "stream",
     "text": [
      "시마노\n",
      "2\n"
     ]
    }
   ],
   "source": [
    "class car:\n",
    "    def __init__(self, wheel, price):\n",
    "        self.wheel = wheel\n",
    "        self.price = price\n",
    "\n",
    "class bicycle(car):\n",
    "    def __init__(self , wheel, price, gu):\n",
    "        super().__init__(wheel, price)\n",
    "        self.gu = gu\n",
    "\n",
    "bicycle = bicycle(2, 100, \"시마노\")\n",
    "print(bicycle.gu)\n",
    "print(bicycle.wheel)"
   ]
  },
  {
   "cell_type": "code",
   "execution_count": 97,
   "id": "fa4e0669",
   "metadata": {},
   "outputs": [],
   "source": [
    "class car:\n",
    "    def __init__(self, wheel, price):\n",
    "        self.wheel = wheel\n",
    "        self.price = price\n",
    "\n",
    "class carcar(car):\n",
    "    def __init__(self , wheel, price):\n",
    "        super().__init__(wheel, price)\n",
    "        \n",
    "    def infor(self):\n",
    "        print(\"바퀴수\" , self.wheel)\n",
    "        print(\"가격\", self.price)"
   ]
  },
  {
   "cell_type": "code",
   "execution_count": 100,
   "id": "3085a961",
   "metadata": {},
   "outputs": [
    {
     "name": "stdout",
     "output_type": "stream",
     "text": [
      "바퀴수 2\n",
      "가격 100\n",
      "구동계 시마노\n"
     ]
    }
   ],
   "source": [
    "class car:\n",
    "    def __init__(self, wheel, price):\n",
    "        self.wheel = wheel\n",
    "        self.price = price\n",
    "    \n",
    "    def infor(self):\n",
    "        print(\"바퀴수\" , self.wheel)\n",
    "        print(\"가격\", self.price)\n",
    "        \n",
    "\n",
    "class bicycle(car):\n",
    "    def __init__(self , wheel, price, gu):\n",
    "        super().__init__(wheel, price)\n",
    "        self.gu = gu\n",
    "    \n",
    "    def infor(self):\n",
    "        super().infor()\n",
    "        print(\"구동계\", self.gu)\n",
    "\n",
    "bicycle = bicycle(2, 100, \"시마노\")\n",
    "bicycle.infor()"
   ]
  },
  {
   "cell_type": "code",
   "execution_count": 102,
   "id": "ff2ceddc",
   "metadata": {},
   "outputs": [
    {
     "name": "stdout",
     "output_type": "stream",
     "text": [
      "자식호출\n"
     ]
    }
   ],
   "source": [
    "class 부모:\n",
    "    def 호출(self):\n",
    "        print(\"부모호출\")\n",
    "\n",
    "class 자식(부모):\n",
    "    def 호출(self):\n",
    "        print(\"자식호출\")\n",
    "\n",
    "나 = 자식()\n",
    "나.호출()"
   ]
  },
  {
   "cell_type": "code",
   "execution_count": 103,
   "id": "16c63eef",
   "metadata": {},
   "outputs": [
    {
     "name": "stdout",
     "output_type": "stream",
     "text": [
      "자식생성\n",
      "부모생성\n"
     ]
    }
   ],
   "source": [
    "class 부모:\n",
    "    def __init__(self):\n",
    "        print(\"부모생성\")\n",
    "\n",
    "class 자식(부모):\n",
    "    def __init__(self):\n",
    "        print(\"자식생성\")\n",
    "        super().__init__()\n",
    "\n",
    "나 = 자식()"
   ]
  },
  {
   "cell_type": "code",
   "execution_count": null,
   "id": "e9c33b19",
   "metadata": {},
   "outputs": [],
   "source": []
  }
 ],
 "metadata": {
  "kernelspec": {
   "display_name": "Python 3 (ipykernel)",
   "language": "python",
   "name": "python3"
  },
  "language_info": {
   "codemirror_mode": {
    "name": "ipython",
    "version": 3
   },
   "file_extension": ".py",
   "mimetype": "text/x-python",
   "name": "python",
   "nbconvert_exporter": "python",
   "pygments_lexer": "ipython3",
   "version": "3.9.12"
  }
 },
 "nbformat": 4,
 "nbformat_minor": 5
}
